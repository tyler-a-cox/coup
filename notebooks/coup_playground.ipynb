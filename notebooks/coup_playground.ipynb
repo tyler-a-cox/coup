{
 "cells": [
  {
   "cell_type": "code",
   "execution_count": 2,
   "id": "e0520d49-1145-47b1-af77-22dca0b14815",
   "metadata": {},
   "outputs": [],
   "source": [
    "import random\n",
    "from coup.agent import Player"
   ]
  },
  {
   "cell_type": "code",
   "execution_count": 3,
   "id": "9a020794-801e-415a-8515-86a29b241969",
   "metadata": {},
   "outputs": [],
   "source": [
    "# Create a deck with 15 cards\n",
    "roles = ['duke', 'assassin', 'captain', 'ambassador', 'contessa']\n",
    "\n",
    "# Number of players\n",
    "n_players = 5\n",
    "n_cards_per_hand = 2\n",
    "n_center_cards = 3"
   ]
  },
  {
   "cell_type": "code",
   "execution_count": 4,
   "id": "9cdc9ca4-8232-4595-b696-db115f4e482e",
   "metadata": {
    "scrolled": true
   },
   "outputs": [],
   "source": [
    "cards = random.sample(\n",
    "    roles, n_players * n_cards_per_hand + n_center_cards, counts=[3] * 5\n",
    ")"
   ]
  },
  {
   "cell_type": "markdown",
   "id": "aebe55ad-69e5-4b87-8005-966579201def",
   "metadata": {},
   "source": [
    "## Start w/ a super simple model"
   ]
  },
  {
   "cell_type": "code",
   "execution_count": 5,
   "id": "c3ce5e6f-bf28-4520-8adf-5e6f3a678d21",
   "metadata": {},
   "outputs": [],
   "source": [
    "import random\n",
    "from dataclasses import dataclass, fields\n",
    "from typing import List, Dict, Set, Optional, Tuple\n",
    "from enum import Enum\n",
    "import inspect\n",
    "\n",
    "@dataclass\n",
    "class Character:\n",
    "    DUKE: str = \"Duke\"\n",
    "    ASSASSIN: str = \"Assassin\"\n",
    "    CAPTAIN: str = \"Captain\"\n",
    "    AMBASSADOR: str = \"Ambassador\"\n",
    "    CONTESSA: str = \"Contessa\"\n",
    "\n",
    "@dataclass\n",
    "class Action:\n",
    "    INCOME: str = \"Income\"\n",
    "    FOREIGN_AID: str = \"Foreign Aid\"\n",
    "    COUP: str = \"Coup\"\n",
    "    TAX: str = \"Tax\"  # Duke\n",
    "    ASSASSINATE: str = \"Assassinate\"  # Assassin\n",
    "    STEAL: str = \"Steal\"  # Captain\n",
    "    EXCHANGE: str = \"Exchange\"  # Ambassador\n",
    "\n",
    "n_cards_per_hand = 2\n",
    "n_center_cards = 3\n",
    "\n",
    "class Arena:\n",
    "    \"\"\"\n",
    "    \"\"\"\n",
    "    def __init__(self, n_players=3):\n",
    "        \"\"\"\n",
    "        \"\"\"\n",
    "        self.cards = random.sample(\n",
    "            list(Character.__dataclass_fields__.keys()), n_players * n_cards_per_hand + n_center_cards, counts=[3] * 5\n",
    "        )\n",
    "        self.players = {}\n",
    "        self.history = []\n",
    "        self.player_order = []\n",
    "\n",
    "        for i in range(n_players):\n",
    "            player_id = random.randint(0, 10000000)\n",
    "            idx = slice(i * n_cards_per_hand, i * n_cards_per_hand + 2)\n",
    "            self.players[player_id] = Player(self.cards[idx], player_id=player_id)\n",
    "            self.player_order.append(player_id)\n",
    "\n",
    "        self.deck = self.cards[-3:]\n",
    "\n",
    "    def take_turn(self, player_id: int) -> None:\n",
    "        \"\"\"\n",
    "        \"\"\"\n",
    "        # Get all available actions for a given player_id\n",
    "        valid_actions = self.get_valid_actions(player_id)\n",
    "\n",
    "        # TODO: Make better choice\n",
    "        action = random.choice(valid_actions)\n",
    "\n",
    "        # Response to counter\n",
    "        counters = {}\n",
    "        for player in self.players:\n",
    "            if player == player_id:\n",
    "                continue\n",
    "                \n",
    "            counter = self.players[player].challenge_action(action)\n",
    "            counters[player] = counter\n",
    "\n",
    "        # Challenge pick\n",
    "        if len(counters) > 0:\n",
    "            challenger_id = random.choice(list(counters.keys()))\n",
    "            challenge_response = self.players[player_id].respond_to_challenge(\n",
    "                counters[challenge_player_id]\n",
    "            )\n",
    "        else:\n",
    "            challenger_id = None\n",
    "            challenge_response = None\n",
    "\n",
    "    def get_valid_actions(self, player_id: int) -> List[Action]:\n",
    "        \"\"\"Get list of valid actions for the current player\"\"\"\n",
    "        player = self.players[player_id]\n",
    "        valid_actions = [Action.INCOME, Action.STEAL]  # Income is always valid\n",
    "        \n",
    "        if player.coins >= 10:\n",
    "            return [Action.COUP]  # Must coup if 7+ coins\n",
    "\n",
    "        if player.coins >= 7:\n",
    "            valid_actions.append(Action.COUP)\n",
    "        \n",
    "        if player.coins >= 3:\n",
    "            valid_actions.append(Action.ASSASSINATE)\n",
    "        \n",
    "        valid_actions.extend([Action.FOREIGN_AID, Action.TAX, Action.EXCHANGE])\n",
    "        return valid_actions\n",
    "\n",
    "    def resolve_actions(self, player_id, action, challenge: Tuple=None, challenge_id: int=None, challenge_response: Tuple=None) -> None:\n",
    "        \"\"\"\n",
    "        \"\"\"\n",
    "        # If a challenge is issues and no response is made, end turn\n",
    "        if challenge and challenge_response is None:\n",
    "            if action == Action.STEAL:\n",
    "                # If someone attempts to steal from another player, that player can either claim to have \n",
    "                # the captain/ambassador, or challenge that the acting player has a captain.\n",
    "                # XXX: Add branch for \n",
    "                if Character.CAPTAIN not in self.players[player_id]:\n",
    "                    self.players[player_id].remove_influence()\n",
    "            elif action == Action.ASSASSINATE:\n",
    "                # If someone attempts to assassinate another player, \n",
    "                # that player can either claim to have the contessa, or challenge that the player actually has\n",
    "                # the assassin\n",
    "                if Character.CAPTAIN not in self.players[player_id]:\n",
    "                    self.players[player_id].remove_influence()\n",
    "            elif action == Action.EXCHANGE:\n",
    "                if Character.AMBASSADOR not in self.players[player_id]:\n",
    "                    self.players[player_id].remove_influence()\n",
    "            elif action == Action.TAX:\n",
    "                if Character.DUKE not in self.players[player_id]:\n",
    "                    self.players[player_id].remove_influence()\n",
    "\n",
    "        # If challenge is made and response is issued, resolve challenge\n",
    "        elif challenge and challenge_response:\n",
    "            if action == Action.FOREIGN_AID:\n",
    "                if Character.DUKE not in self.players[challenge_id]:\n",
    "                    self.players[challenge_id].remove_influence()\n",
    "            elif action == Action.ASSASSINATE:\n",
    "                # If someone attempts to assassinate another player, \n",
    "                # that player can either claim to have the contessa, or challenge that the player actually has\n",
    "                # the assassin\n",
    "                pass\n",
    "            elif action == Action.STEAL:\n",
    "                # If someone attempts to steal from another player, that player can either claim to have \n",
    "                # the captain/ambassador, or challenge that the acting player has a captain. If someone\n",
    "                if Character.CAPTAIN not in self.players[challenge_id] or Character.AMBASSADOR not in self.players[challenge_id]:\n",
    "                    self.players[challenge_id].remove_influence()            \n",
    "                \n",
    "        else:\n",
    "            if action == Action.INCOME:\n",
    "                self.players[player_id].coins += 1\n",
    "            elif action == Action.FOREIGN_AID:\n",
    "                self.players[player_id].coins += 2\n",
    "            elif action == Action.TAX:\n",
    "                self.players[player_id].coins += 3\n",
    "            elif action == Action.STEAL:\n",
    "                self.players[player_id].coins += min(2, self.players[target_id].coins)\n",
    "                self.players[target_id].coins -= min(2, self.players[target_id].coins)\n",
    "            elif action == Action.COUP:\n",
    "                self.players[target_id].remove_influence()\n",
    "                self.players[player_id].coins -= 7\n",
    "            elif action == Action.ASSASSINATE:\n",
    "                self.players[target_id].remove_influence()\n",
    "                self.players[player_id].coins -= 3\n",
    "            else:\n",
    "                self.players[player_id].swap_card(self.deck)"
   ]
  },
  {
   "cell_type": "code",
   "execution_count": 13,
   "id": "014124e5-fefb-4700-be43-c2ffd28bb7b5",
   "metadata": {},
   "outputs": [],
   "source": [
    "arena = Arena()\n",
    "player_ids = list(arena.players.keys())"
   ]
  },
  {
   "cell_type": "code",
   "execution_count": 14,
   "id": "ae871642-c3fc-41df-a5d1-b57fce65f68d",
   "metadata": {},
   "outputs": [
    {
     "data": {
      "text/plain": [
       "['Income', 'Steal', 'Assassinate', 'Foreign Aid', 'Tax', 'Exchange']"
      ]
     },
     "execution_count": 14,
     "metadata": {},
     "output_type": "execute_result"
    }
   ],
   "source": [
    "arena.players[player_ids[0]].coins += 3\n",
    "arena.get_valid_actions(player_ids[0])"
   ]
  },
  {
   "cell_type": "code",
   "execution_count": 15,
   "id": "579ce105-e622-46ce-b6eb-bdaebff081c9",
   "metadata": {},
   "outputs": [
    {
     "name": "stdout",
     "output_type": "stream",
     "text": [
      "['ASSASSIN', 'AMBASSADOR']\n",
      "['ASSASSIN']\n"
     ]
    }
   ],
   "source": [
    "z = random.choice(arena.players[player_ids[0]].hand)\n",
    "print (arena.players[player_ids[0]].hand)\n",
    "arena.players[player_ids[0]].hand.remove(z)\n",
    "print (arena.players[player_ids[0]].hand)"
   ]
  },
  {
   "cell_type": "markdown",
   "id": "8966193e-cc50-40ab-8e76-86bebc34787d",
   "metadata": {},
   "source": [
    "# LSTM"
   ]
  },
  {
   "cell_type": "code",
   "execution_count": 64,
   "id": "969032e1-704b-43fd-a397-a129b21d37b3",
   "metadata": {},
   "outputs": [],
   "source": [
    "import torch\n",
    "import torch.nn as nn\n",
    "import numpy as np\n",
    "import tqdm\n",
    "from torch.utils.data import Dataset, DataLoader\n",
    "\n",
    "class SimpleDataset(Dataset):\n",
    "    def __init__(self, seq_length=10, num_samples=1000):\n",
    "        # Generate simple sequences where next number is sum of previous two\n",
    "        self.sequences = []\n",
    "        self.targets = []\n",
    "        \n",
    "        for _ in range(num_samples):\n",
    "            seq = [np.random.rand(), np.random.rand()]\n",
    "            for i in range(seq_length - 2):\n",
    "                seq.append(seq[-1] + seq[-2])\n",
    "            \n",
    "            self.sequences.append(seq[:-1])\n",
    "            self.targets.append(seq[-1])\n",
    "            \n",
    "        self.sequences = torch.FloatTensor(self.sequences)\n",
    "        self.targets = torch.FloatTensor(self.targets)\n",
    "        \n",
    "    def __len__(self):\n",
    "        return len(self.sequences)\n",
    "        \n",
    "    def __getitem__(self, idx):\n",
    "        return self.sequences[idx], self.targets[idx]\n",
    "\n",
    "class LSTMPredictor(nn.Module):\n",
    "    def __init__(self, input_size=1, hidden_size=64, num_layers=2, dropout=0.2):\n",
    "        super(LSTMPredictor, self).__init__()\n",
    "        \n",
    "        self.hidden_size = hidden_size\n",
    "        self.num_layers = num_layers\n",
    "        \n",
    "        # LSTM layer\n",
    "        self.lstm = nn.LSTM(\n",
    "            input_size=input_size,\n",
    "            hidden_size=hidden_size,\n",
    "            num_layers=num_layers,\n",
    "            dropout=dropout if num_layers > 1 else 0,\n",
    "            batch_first=True\n",
    "        )\n",
    "        \n",
    "        # Fully connected layer\n",
    "        self.fc = nn.Linear(hidden_size, 1)\n",
    "        \n",
    "    def forward(self, x):\n",
    "        # Initialize hidden state and cell state\n",
    "        h0 = torch.zeros(self.num_layers, x.size(0), self.hidden_size).to(x.device)\n",
    "        c0 = torch.zeros(self.num_layers, x.size(0), self.hidden_size).to(x.device)\n",
    "        \n",
    "        # Forward propagate LSTM\n",
    "        lstm_out, _ = self.lstm(x.unsqueeze(-1), (h0, c0))\n",
    "        \n",
    "        # Get output from last time step\n",
    "        output = self.fc(lstm_out[:, -1, :])\n",
    "        return output.squeeze()\n",
    "\n",
    "def train_model(model, train_loader, num_epochs=10, learning_rate=0.001):\n",
    "    device = torch.device('cuda' if torch.cuda.is_available() else 'cpu')\n",
    "    model = model.to(device)\n",
    "    criterion = nn.MSELoss()\n",
    "    optimizer = torch.optim.Adam(model.parameters(), lr=learning_rate)\n",
    "    \n",
    "    for epoch in tqdm.tqdm(range(num_epochs)):\n",
    "        model.train()\n",
    "        total_loss = 0\n",
    "        \n",
    "        for batch_sequences, batch_targets in train_loader:\n",
    "            batch_sequences = batch_sequences.to(device)\n",
    "            batch_targets = batch_targets.to(device)\n",
    "            \n",
    "            # Forward pass\n",
    "            outputs = model(batch_sequences)\n",
    "            loss = criterion(outputs, batch_targets)\n",
    "            \n",
    "            # Backward pass and optimize\n",
    "            optimizer.zero_grad()\n",
    "            loss.backward()\n",
    "            optimizer.step()\n",
    "            \n",
    "            total_loss += loss.item()\n",
    "            \n",
    "        avg_loss = total_loss / len(train_loader)\n",
    "        #print(f'Epoch [{epoch+1}/{num_epochs}], Loss: {avg_loss:.4f}')\n",
    "\n",
    "def main():\n",
    "    # Create dataset and dataloader\n",
    "    dataset = SimpleDataset()\n",
    "    train_loader = DataLoader(dataset, batch_size=32, shuffle=True)\n",
    "    \n",
    "    # Initialize model\n",
    "    model = LSTMPredictor()\n",
    "    \n",
    "    # Train model\n",
    "    train_model(model, train_loader, num_epochs=200)\n",
    "    \n",
    "    # Example prediction\n",
    "    model.eval()\n",
    "    with torch.no_grad():\n",
    "        sample_seq = dataset.sequences[0].unsqueeze(0)\n",
    "        prediction = model(sample_seq)\n",
    "        actual = dataset.targets[0]\n",
    "        print(f'Prediction: {prediction.item():.4f}')\n",
    "        print(f'Actual: {actual.item():.4f}')\n",
    "\n",
    "    return dataset, model"
   ]
  },
  {
   "cell_type": "code",
   "execution_count": 65,
   "id": "01a5e537-cb89-4c28-a4b2-8ccee76bd66b",
   "metadata": {},
   "outputs": [
    {
     "name": "stderr",
     "output_type": "stream",
     "text": [
      "100%|█████████████████████████████████████████████████████████████████████████████████████████████| 200/200 [00:31<00:00,  6.34it/s]"
     ]
    },
    {
     "name": "stdout",
     "output_type": "stream",
     "text": [
      "Prediction: 26.8539\n",
      "Actual: 26.5534\n"
     ]
    },
    {
     "name": "stderr",
     "output_type": "stream",
     "text": [
      "\n"
     ]
    }
   ],
   "source": [
    "model = main()"
   ]
  },
  {
   "cell_type": "code",
   "execution_count": 67,
   "id": "ea074258-6612-4806-a1e5-fb1a6b0378e5",
   "metadata": {},
   "outputs": [],
   "source": [
    "dataset, _model = model"
   ]
  },
  {
   "cell_type": "code",
   "execution_count": 68,
   "id": "d8d84435-750c-4c89-b197-d9d2207f5ea4",
   "metadata": {},
   "outputs": [],
   "source": [
    "sample_seq = dataset.sequences[0].unsqueeze(0)\n",
    "prediction = _model(sample_seq)\n",
    "actual = dataset.targets[0]"
   ]
  }
 ],
 "metadata": {
  "kernelspec": {
   "display_name": "Python 3 (ipykernel)",
   "language": "python",
   "name": "python3"
  },
  "language_info": {
   "codemirror_mode": {
    "name": "ipython",
    "version": 3
   },
   "file_extension": ".py",
   "mimetype": "text/x-python",
   "name": "python",
   "nbconvert_exporter": "python",
   "pygments_lexer": "ipython3",
   "version": "3.10.14"
  }
 },
 "nbformat": 4,
 "nbformat_minor": 5
}
